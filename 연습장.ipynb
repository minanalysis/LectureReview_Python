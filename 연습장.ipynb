#
{
 "cells": [
  {
   "cell_type": "code",
   "execution_count": 6,
   "id": "22e641eb",
   "metadata": {},
   "outputs": [
    {
     "name": "stdout",
     "output_type": "stream",
     "text": [
      "6\n"
     ]
    }
   ],
   "source": [
    "a=11\n",
    "b=15 \n",
    "c=1  \n",
    "\n",
    "number=list(range(a,b+1))\n",
    "number\n",
    "\n",
    "count=0\n",
    "\n",
    "for i in number: \n",
    "    if i%10 == c : \n",
    "        count = count+1\n",
    "    if i//10 ==c : \n",
    "        count = count+1\n",
    "        \n",
    "print(count)\n",
    "\n"
   ]
  },
  {
   "cell_type": "code",
   "execution_count": 2,
   "id": "52ca57c9",
   "metadata": {},
   "outputs": [
    {
     "name": "stdout",
     "output_type": "stream",
     "text": [
      "32\n"
     ]
    }
   ],
   "source": [
    "a=111\n",
    "b=211\n",
    "c=2\n",
    "\n",
    "number=list(range(a,b+1))\n",
    "count=0 \n",
    "\n",
    "for i in number:\n",
    "    for j in range(len(str(i))):\n",
    "        if str(i)[j]==str(c):\n",
    "            count+=1\n",
    "            \n",
    "print(count)\n",
    "\n"
   ]
  },
  {
   "cell_type": "code",
   "execution_count": null,
   "id": "a2206ed7",
   "metadata": {},
   "outputs": [],
   "source": []
  }
 ],
 "metadata": {
  "kernelspec": {
   "display_name": "Python 3",
   "language": "python",
   "name": "python3"
  },
  "language_info": {
   "codemirror_mode": {
    "name": "ipython",
    "version": 3
   },
   "file_extension": ".py",
   "mimetype": "text/x-python",
   "name": "python",
   "nbconvert_exporter": "python",
   "pygments_lexer": "ipython3",
   "version": "3.8.8"
  },
  "toc": {
   "base_numbering": 1,
   "nav_menu": {},
   "number_sections": true,
   "sideBar": true,
   "skip_h1_title": false,
   "title_cell": "Table of Contents",
   "title_sidebar": "Contents",
   "toc_cell": false,
   "toc_position": {},
   "toc_section_display": true,
   "toc_window_display": false
  }
 },
 "nbformat": 4,
 "nbformat_minor": 5
}
