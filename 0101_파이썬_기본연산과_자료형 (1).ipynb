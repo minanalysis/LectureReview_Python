{
 "cells": [
  {
   "cell_type": "markdown",
   "metadata": {
    "id": "h63gKkC2u4F8"
   },
   "source": [
    "## 자료형\n",
    "* 숫자형(Number) : 숫자 형태로 이루어진 자료형\n",
    "* 문자열(String) : 문자, 단어 등으로 구성된 문자들의 집합을 관리하는 자료형\n",
    "* 리스트(list) : 여러개의 자료를 하나의 변수로 관리할 때 사용하는 자료형\n",
    "* 튜플(tuple) : 여러개의 자료를 하나의 변수로 관리할 때 사용되는 면에서는 list와 거의 같지만 데이터를 변경할 수 없는 자료형\n",
    "* 딕셔너리(dictionary) : 여러개의 자료를 하나의 변수로 관리하는 측면은 list나 tuple과 비슷하지만 key와 value로 이루어져 있고 순차적인 요소값으로 관리되지 않고 key값을 통해 value를 구하는 자료형\n",
    "* 집합(set) : 중복이 허용되지 않고, 순서가 없는, 집합에 관련된 것을 쉽게 처리하기 위한 자료형으로 순서가 없기때문에 자료에 접근하기 위해서는 다른 형태의 자료형으로 변환해야 한다.\n",
    "* 불(bool) : 참(True)과 거짓(False)을 나타내는 자료형. True와 False만 가질 수 있다.\n",
    "* 변수(variable) : 파이썬에서 사용되는 변수는 객체(자료형과 같은 의미)를 가리킨다.\n",
    "\n",
    "## 제어문\n",
    "* if문 : if 이후의 조건들로 상황에 맞게 수행시키기 위한 제어문\n",
    "* while문 : 반복해서 문장을 수행해야할 경우 사용되는 반복문\n",
    "* for문 : while문과 비슷한 반복문이지만 문장 구조의 이해가 용이하다.\n",
    "\n",
    "## 프로그램 입/출력\n",
    "* 함수(function) : 특정 행위를 필요할 때 반복적으로 수행해야하는 경우 공통된 부분을 하나의 코드로 대변되게 만드는 과정으로 python에서는 def라는 형식으로 시작한다.\n",
    "* 매개변수(parameter) : 함수에 입력으로 전달된 값을 받는 변수\n",
    "* 인수(argument) : 함수를 호출할 때 전달되는 입력값\n",
    "* 람다(lambda) : 함수를 생성할 때 사용되는 예약어로 def와 동일한 역할을 하며 일반적으로 함수를 한줄로 간결하게 만들 때 사용된다.\n",
    "* input : 사용자가 입력한 값을 어떤 변수에 대입하기 위한 역할을 수행한다.\n",
    "* print : 자료형을 출력하는 역할을 수행한다.\n",
    "\n",
    "\n",
    "\n",
    "## 기타\n",
    "* 클래스(class) : 코드에서 반복되는 역할을 줄이기 위해 공통된 부분을 함수처럼 따로 정리해서 사용하지만 함수와는 다르게 서로 독립적으로 생성이 된다.(이렇게 독립적으로 생성된 부분 객체라고 한다.)\n",
    "* 모듈(module) : 함수나 변수 또는 클래스는 모아 놓은 파일\n",
    "* 내장 함수(Built-in Function)  : 파이썬에서 기본적으로 제공되는 연산들\n",
    "* 라이브러리(library) : 여러가지 용도를 가지고 있는 모듈의 모음\n",
    "\n",
    "\n",
    "* 파이썬 공식 튜토리얼 : \n",
    "    * 영문 : https://docs.python.org/3/tutorial/introduction.html\n",
    "    * 한글 : https://docs.python.org/ko/3/tutorial/index.html\n",
    "\n",
    "\n",
    "## Zen of Python\n",
    "* 파이썬의 철학이 잘 담겨있는 Zen of Python 을 출력해 봅니다.\n",
    "    * \"아름다운 게 추한 것보다 낫다.\" (Beautiful is better than ugly)\n",
    "    * \"명시적인 것이 암시적인 것 보다 낫다.\" (Explicit is better than implicit)\n",
    "    * \"단순함이 복잡함보다 낫다.\" (Simple is better than complex)\n",
    "    * \"복잡함이 난해한 것보다 낫다.\" (Complex is better than complicated)\n",
    "    * \"가독성은 중요하다.\" (Readability counts)\n",
    "    \n",
    "* import를 통해 파이썬의 라이브러리나 패키지를 가져올 수 있습니다."
   ]
  },
  {
   "cell_type": "code",
   "execution_count": null,
   "metadata": {
    "id": "PxUHokR8sQ8q"
   },
   "outputs": [],
   "source": [
    "import this"
   ]
  },
  {
   "cell_type": "markdown",
   "metadata": {
    "id": "4PLzTRLxxNHG"
   },
   "source": [
    "## 숫자\n",
    "* https://docs.python.org/ko/3/tutorial/introduction.html#numbers"
   ]
  },
  {
   "cell_type": "code",
   "execution_count": null,
   "metadata": {
    "colab": {
     "base_uri": "https://localhost:8080/"
    },
    "id": "rwOMw_bLxNHH",
    "outputId": "5fa34b72-9f7b-4973-eefe-fcff57a5845b",
    "scrolled": true
   },
   "outputs": [
    {
     "data": {
      "text/plain": [
       "1"
      ]
     },
     "execution_count": 8,
     "metadata": {},
     "output_type": "execute_result"
    }
   ],
   "source": [
    "1\n"
   ]
  },
  {
   "cell_type": "code",
   "execution_count": null,
   "metadata": {
    "colab": {
     "base_uri": "https://localhost:8080/"
    },
    "id": "QcaeORbPxNHH",
    "outputId": "b121d9da-89f8-400f-dbf0-57e8c36557ca"
   },
   "outputs": [
    {
     "name": "stdout",
     "output_type": "stream",
     "text": [
      "1.0\n"
     ]
    }
   ],
   "source": [
    "print(1.0)\n"
   ]
  },
  {
   "cell_type": "code",
   "execution_count": null,
   "metadata": {
    "colab": {
     "base_uri": "https://localhost:8080/"
    },
    "id": "L0xniqaDxNHH",
    "outputId": "258ab197-3df6-497f-c71d-cff45da2263a"
   },
   "outputs": [
    {
     "data": {
      "text/plain": [
       "int"
      ]
     },
     "execution_count": 10,
     "metadata": {},
     "output_type": "execute_result"
    }
   ],
   "source": [
    "type(1)\n"
   ]
  },
  {
   "cell_type": "code",
   "execution_count": null,
   "metadata": {
    "colab": {
     "base_uri": "https://localhost:8080/"
    },
    "id": "EXBtTYURxNHI",
    "outputId": "e5e6bd0f-ba70-4079-8ac2-e6ed252b5ede"
   },
   "outputs": [
    {
     "data": {
      "text/plain": [
       "float"
      ]
     },
     "execution_count": 11,
     "metadata": {},
     "output_type": "execute_result"
    }
   ],
   "source": [
    "type(1.0)\n"
   ]
  },
  {
   "cell_type": "markdown",
   "metadata": {
    "id": "FWWEF8wCxNHI"
   },
   "source": [
    "## 사칙연산"
   ]
  },
  {
   "cell_type": "code",
   "execution_count": null,
   "metadata": {
    "colab": {
     "base_uri": "https://localhost:8080/"
    },
    "id": "82SEWIT-xNHJ",
    "outputId": "c8f34823-0cf4-438e-c522-416c26e86095"
   },
   "outputs": [
    {
     "data": {
      "text/plain": [
       "3"
      ]
     },
     "execution_count": 1,
     "metadata": {},
     "output_type": "execute_result"
    }
   ],
   "source": [
    "#print는 각각 출력해주고, print없이 출력하면 마지막줄만 출력됨.\n",
    "(1+2)\n",
    "\n"
   ]
  },
  {
   "cell_type": "code",
   "execution_count": null,
   "metadata": {
    "colab": {
     "base_uri": "https://localhost:8080/"
    },
    "id": "_8uvVBGtxNHJ",
    "outputId": "e9588f36-1c60-467c-ff51-e2cc361ee9e3"
   },
   "outputs": [
    {
     "data": {
      "text/plain": [
       "1"
      ]
     },
     "execution_count": 14,
     "metadata": {},
     "output_type": "execute_result"
    }
   ],
   "source": [
    "3-2\n"
   ]
  },
  {
   "cell_type": "code",
   "execution_count": null,
   "metadata": {
    "colab": {
     "base_uri": "https://localhost:8080/"
    },
    "id": "pD4q_UhoxNHK",
    "outputId": "8c0b7aa1-703f-4368-b144-1779fd30d45f"
   },
   "outputs": [
    {
     "data": {
      "text/plain": [
       "6"
      ]
     },
     "execution_count": 15,
     "metadata": {},
     "output_type": "execute_result"
    }
   ],
   "source": [
    "2*3\n"
   ]
  },
  {
   "cell_type": "code",
   "execution_count": null,
   "metadata": {
    "colab": {
     "base_uri": "https://localhost:8080/"
    },
    "id": "TvH4bq2txNHK",
    "outputId": "25ede801-040a-4725-d917-d752ff2b9da8"
   },
   "outputs": [
    {
     "data": {
      "text/plain": [
       "1.5"
      ]
     },
     "execution_count": 16,
     "metadata": {},
     "output_type": "execute_result"
    }
   ],
   "source": [
    "3/2\n"
   ]
  },
  {
   "cell_type": "code",
   "execution_count": null,
   "metadata": {
    "colab": {
     "base_uri": "https://localhost:8080/"
    },
    "id": "sfw_cJeXxNHL",
    "outputId": "4bd6559d-3152-48b6-e169-8f6b1cb4fbd7"
   },
   "outputs": [
    {
     "data": {
      "text/plain": [
       "1"
      ]
     },
     "execution_count": 17,
     "metadata": {},
     "output_type": "execute_result"
    }
   ],
   "source": [
    "3//2\n"
   ]
  },
  {
   "cell_type": "code",
   "execution_count": null,
   "metadata": {
    "colab": {
     "base_uri": "https://localhost:8080/"
    },
    "id": "_ypiq8e0xNHL",
    "outputId": "cbbb74de-6d93-4d99-a040-6ae14700661a"
   },
   "outputs": [
    {
     "data": {
      "text/plain": [
       "1"
      ]
     },
     "execution_count": 3,
     "metadata": {},
     "output_type": "execute_result"
    }
   ],
   "source": [
    "3%2\n"
   ]
  },
  {
   "cell_type": "markdown",
   "metadata": {
    "id": "lC_LL-aWxNHM"
   },
   "source": [
    "## 변수\n",
    "* 변수명은 숫자로 시작할 수 없습니다.\n",
    "* 변수명은 언더바(_)를 제외한 특수문자를 사용할 수 없습니다.\n",
    "\n",
    "```\n",
    "---------------------------------------------------------------------------\n",
    "NameError                                 Traceback (most recent call last)\n",
    "<ipython-input-26-ab0680a89434> in <module>\n",
    "----> 1 n\n",
    "\n",
    "NameError: name 'n' is not defined\n",
    "\n",
    "```"
   ]
  },
  {
   "cell_type": "code",
   "execution_count": null,
   "metadata": {
    "colab": {
     "base_uri": "https://localhost:8080/"
    },
    "id": "UZLiGSLexNHM",
    "outputId": "4254f9ee-b68c-44b4-df03-82ae017a3e12"
   },
   "outputs": [
    {
     "data": {
      "text/plain": [
       "4"
      ]
     },
     "execution_count": 10,
     "metadata": {},
     "output_type": "execute_result"
    }
   ],
   "source": [
    "n_1=4\n",
    "(n_1)\n"
   ]
  },
  {
   "cell_type": "markdown",
   "metadata": {
    "id": "pGZhU46HaqfQ"
   },
   "source": [
    " https://dojang.io/mod/page/view.php?id=2176"
   ]
  },
  {
   "cell_type": "markdown",
   "metadata": {
    "id": "Ho7GSPnexNHM"
   },
   "source": [
    "## 응용\n",
    "* 변수에 값을 할당하고 면적을 구해 봅니다."
   ]
  },
  {
   "cell_type": "code",
   "execution_count": null,
   "metadata": {
    "colab": {
     "base_uri": "https://localhost:8080/"
    },
    "id": "jini0EStxNHM",
    "outputId": "fd1eede4-6ca3-4bf2-dfc2-eacfe55cf13d"
   },
   "outputs": [
    {
     "name": "stdout",
     "output_type": "stream",
     "text": [
      "100\n"
     ]
    }
   ],
   "source": []
  },
  {
   "cell_type": "code",
   "execution_count": null,
   "metadata": {
    "colab": {
     "base_uri": "https://localhost:8080/"
    },
    "id": "vkrDf127GSN7",
    "outputId": "195b8114-986b-46e5-8e6c-b8efcf69de0c"
   },
   "outputs": [
    {
     "name": "stdout",
     "output_type": "stream",
     "text": [
      "45\n"
     ]
    }
   ],
   "source": [
    "width = 15\n",
    "height = 3\n",
    "size = (width*height)\n",
    "print(size)"
   ]
  },
  {
   "cell_type": "code",
   "execution_count": null,
   "metadata": {
    "colab": {
     "base_uri": "https://localhost:8080/"
    },
    "id": "4WmOdbAfHXCu",
    "outputId": "9bdb6c5c-2abd-477e-a51c-6a9d9b063d95"
   },
   "outputs": [
    {
     "name": "stdout",
     "output_type": "stream",
     "text": [
      "['pizza', 'orange']\n"
     ]
    }
   ],
   "source": [
    "food = ['pizza', 'orange']\n",
    "print(food)\n"
   ]
  },
  {
   "cell_type": "markdown",
   "metadata": {
    "id": "m0w7_ImVxNHN"
   },
   "source": [
    "## 문자열\n",
    "* https://docs.python.org/ko/3/tutorial/introduction.html#strings\n",
    "### 문자열 정의"
   ]
  },
  {
   "cell_type": "code",
   "execution_count": null,
   "metadata": {
    "colab": {
     "base_uri": "https://localhost:8080/",
     "height": 35
    },
    "id": "gnp8a8-PxNHN",
    "outputId": "1d2e5e74-a0c7-47a5-bb09-75c5921e9fd6"
   },
   "outputs": [
    {
     "data": {
      "application/vnd.google.colaboratory.intrinsic+json": {
       "type": "string"
      },
      "text/plain": [
       "'Python'"
      ]
     },
     "execution_count": 22,
     "metadata": {},
     "output_type": "execute_result"
    }
   ],
   "source": [
    "\"Python\" \n"
   ]
  },
  {
   "cell_type": "code",
   "execution_count": null,
   "metadata": {
    "colab": {
     "base_uri": "https://localhost:8080/",
     "height": 35
    },
    "id": "QjzcvgT6xNHN",
    "outputId": "379a6f93-1f01-4a93-a8da-0a0ad2ab36f8"
   },
   "outputs": [
    {
     "data": {
      "application/vnd.google.colaboratory.intrinsic+json": {
       "type": "string"
      },
      "text/plain": [
       "'Python'"
      ]
     },
     "execution_count": 35,
     "metadata": {},
     "output_type": "execute_result"
    }
   ],
   "source": [
    "'Python'\n"
   ]
  },
  {
   "cell_type": "code",
   "execution_count": null,
   "metadata": {
    "colab": {
     "base_uri": "https://localhost:8080/"
    },
    "id": "bIHtus7axNHN",
    "outputId": "2c3bfa93-88ed-45f1-8602-aef771dac577"
   },
   "outputs": [
    {
     "name": "stdout",
     "output_type": "stream",
     "text": [
      "python's notebook\n",
      "python's notebook\n",
      "python's notebook\n"
     ]
    }
   ],
   "source": [
    "\n",
    "print(\"python's notebook\")\n",
    "print('python\\'s notebook')\n",
    "print('python\\'s notebook')\n"
   ]
  },
  {
   "cell_type": "code",
   "execution_count": null,
   "metadata": {
    "colab": {
     "base_uri": "https://localhost:8080/"
    },
    "id": "87J7yOZGHzFu",
    "outputId": "538e9759-5adf-4919-f131-ee38241e7362"
   },
   "outputs": [
    {
     "name": "stdout",
     "output_type": "stream",
     "text": [
      "apfhd\n"
     ]
    }
   ],
   "source": [
    "print(\"apfhd\")"
   ]
  },
  {
   "cell_type": "code",
   "execution_count": null,
   "metadata": {
    "colab": {
     "base_uri": "https://localhost:8080/"
    },
    "id": "xcM0GFMLxNHN",
    "outputId": "5f8d5a6f-5f28-4138-f254-75db0a8dd78e"
   },
   "outputs": [
    {
     "name": "stdout",
     "output_type": "stream",
     "text": [
      "\n",
      "줄바꿈문자를\n",
      "표현합니다.\n",
      "\n",
      "\n",
      "줄바꿈 \n",
      "문자를\n",
      "표현합니다.\n",
      "\n"
     ]
    }
   ],
   "source": [
    "# 줄바꿈 문자를 표현합니다.\n",
    "# \\n : new line\n",
    "# \\t : tab\n",
    "print(\"\"\"\n",
    "줄바꿈문자를\n",
    "표현합니다.\n",
    "\"\"\")\n",
    "\n",
    "sentence = (\"\"\"\n",
    "줄바꿈 \n",
    "문자를\n",
    "표현합니다.\n",
    "\"\"\")\n",
    "\n",
    "print(sentence)"
   ]
  },
  {
   "cell_type": "code",
   "execution_count": null,
   "metadata": {
    "colab": {
     "base_uri": "https://localhost:8080/"
    },
    "id": "ZTuAtwc0xNHO",
    "outputId": "aaeb24d0-9314-45c7-9261-e415ec942ea1"
   },
   "outputs": [
    {
     "name": "stdout",
     "output_type": "stream",
     "text": [
      "민아는\n",
      "정말\n"
     ]
    }
   ],
   "source": [
    "# *를 통해 문자를 반복 출력합니다.\n",
    "\n",
    "print(\"민\"+\"아\"+\"는\") #문자를 붙이는 것 \n",
    "print(\"정\"+\"말\")\n",
    "\n",
    "\n",
    "\n"
   ]
  },
  {
   "cell_type": "code",
   "execution_count": null,
   "metadata": {
    "colab": {
     "base_uri": "https://localhost:8080/"
    },
    "id": "BsXQSLomYjKO",
    "outputId": "d18326c8-241f-453c-b0c2-4d284ae8a774"
   },
   "outputs": [
    {
     "name": "stdout",
     "output_type": "stream",
     "text": [
      "매출 =\n",
      "500\n"
     ]
    }
   ],
   "source": [
    "수입 = 1000\n",
    "비용 = 500 \n",
    "매출 = (수입-비용)\n",
    "print(\"매출\", \"=\") \n",
    "print(매출)"
   ]
  },
  {
   "cell_type": "markdown",
   "metadata": {
    "id": "BecR739oxNHO"
   },
   "source": [
    "### 문자열 인덱싱\n",
    "\n",
    "\n",
    "```\n",
    " +---+---+---+---+---+---+\n",
    " | P | y | t | h | o | n |\n",
    " +---+---+---+---+---+---+\n",
    " 0   1   2   3   4   5   6\n",
    "-6  -5  -4  -3  -2  -1\n",
    "```"
   ]
  },
  {
   "cell_type": "code",
   "execution_count": null,
   "metadata": {
    "colab": {
     "base_uri": "https://localhost:8080/",
     "height": 190
    },
    "id": "c85i5sUKLmGi",
    "outputId": "42bdf384-ee4e-4bab-bfca-cad2328067be"
   },
   "outputs": [
    {
     "ename": "IndexError",
     "evalue": "ignored",
     "output_type": "error",
     "traceback": [
      "\u001b[0;31m---------------------------------------------------------------------------\u001b[0m",
      "\u001b[0;31mIndexError\u001b[0m                                Traceback (most recent call last)",
      "\u001b[0;32m<ipython-input-100-ceefa5494a0e>\u001b[0m in \u001b[0;36m<module>\u001b[0;34m()\u001b[0m\n\u001b[1;32m      1\u001b[0m \u001b[0;34m\u001b[0m\u001b[0m\n\u001b[0;32m----> 2\u001b[0;31m \u001b[0mword\u001b[0m\u001b[0;34m[\u001b[0m\u001b[0;36m6\u001b[0m\u001b[0;34m]\u001b[0m\u001b[0;34m\u001b[0m\u001b[0;34m\u001b[0m\u001b[0m\n\u001b[0m",
      "\u001b[0;31mIndexError\u001b[0m: string index out of range"
     ]
    }
   ],
   "source": [
    "\n",
    "word[6]"
   ]
  },
  {
   "cell_type": "code",
   "execution_count": null,
   "metadata": {
    "colab": {
     "base_uri": "https://localhost:8080/"
    },
    "id": "l0mHRzJ4xNHO",
    "outputId": "ab82d138-6665-4f79-bed8-de03a927c2c2"
   },
   "outputs": [
    {
     "name": "stdout",
     "output_type": "stream",
     "text": [
      "pythonpython\n"
     ]
    }
   ],
   "source": [
    "# 변수에 담긴 문자열의 위치를 알아봅니다.\n",
    "word='python'\n",
    "print(word*2)\n"
   ]
  },
  {
   "cell_type": "code",
   "execution_count": null,
   "metadata": {
    "colab": {
     "base_uri": "https://localhost:8080/",
     "height": 35
    },
    "id": "JHCIKwC7xNHO",
    "outputId": "2c5251d8-7c00-4baa-d4eb-21297a157d5a"
   },
   "outputs": [
    {
     "data": {
      "application/vnd.google.colaboratory.intrinsic+json": {
       "type": "string"
      },
      "text/plain": [
       "'p'"
      ]
     },
     "execution_count": 101,
     "metadata": {},
     "output_type": "execute_result"
    }
   ],
   "source": [
    "# 0번 인덱스의 원소를 가져옵니다.\n",
    "word[0]"
   ]
  },
  {
   "cell_type": "code",
   "execution_count": null,
   "metadata": {
    "colab": {
     "base_uri": "https://localhost:8080/",
     "height": 35
    },
    "id": "qOISSRbMxNHO",
    "outputId": "18c05f28-4d35-421d-df31-7e6945fe8d08"
   },
   "outputs": [
    {
     "data": {
      "application/vnd.google.colaboratory.intrinsic+json": {
       "type": "string"
      },
      "text/plain": [
       "'y'"
      ]
     },
     "execution_count": 111,
     "metadata": {},
     "output_type": "execute_result"
    }
   ],
   "source": [
    "# 1번 인덱스의 원소를 가져옵니다.\n",
    "word[1]"
   ]
  },
  {
   "cell_type": "code",
   "execution_count": null,
   "metadata": {
    "colab": {
     "base_uri": "https://localhost:8080/",
     "height": 35
    },
    "id": "F5SKmVU_xNHO",
    "outputId": "657dd563-486a-47dc-d396-849094744dfe"
   },
   "outputs": [
    {
     "data": {
      "application/vnd.google.colaboratory.intrinsic+json": {
       "type": "string"
      },
      "text/plain": [
       "'h'"
      ]
     },
     "execution_count": 113,
     "metadata": {},
     "output_type": "execute_result"
    }
   ],
   "source": [
    "# 마지막 인덱스의 원소를 가져옵니다.\n",
    "word[-6]"
   ]
  },
  {
   "cell_type": "markdown",
   "metadata": {
    "id": "8qV6hL4BxNHO"
   },
   "source": [
    "### 문자열 슬라이싱"
   ]
  },
  {
   "cell_type": "code",
   "execution_count": null,
   "metadata": {
    "colab": {
     "base_uri": "https://localhost:8080/",
     "height": 53
    },
    "id": "coWYJ9ckxNHO",
    "outputId": "883012e5-2bea-444e-e6dd-0a206ece5fdb"
   },
   "outputs": [
    {
     "name": "stdout",
     "output_type": "stream",
     "text": [
      "Python'\n"
     ]
    },
    {
     "data": {
      "application/vnd.google.colaboratory.intrinsic+json": {
       "type": "string"
      },
      "text/plain": [
       "\"Python's Hobby\""
      ]
     },
     "execution_count": 112,
     "metadata": {},
     "output_type": "execute_result"
    }
   ],
   "source": [
    "# [시작인덱스:끝나는인덱스+1] 로 문자열의 일부를 가져옵니다.\n",
    "# 앞에서 6개 글자만 가져옵니다.\n",
    "word='Python\\'s Hobby?'\n",
    "print(word[0:7])\n",
    "word[:-1]\n"
   ]
  },
  {
   "cell_type": "code",
   "execution_count": null,
   "metadata": {
    "colab": {
     "base_uri": "https://localhost:8080/",
     "height": 35
    },
    "id": "_qsqbiCCxNHP",
    "outputId": "d860cec7-18c5-44a7-ea28-8d31b868ec4d"
   },
   "outputs": [
    {
     "data": {
      "application/vnd.google.colaboratory.intrinsic+json": {
       "type": "string"
      },
      "text/plain": [
       "'Hobby?'"
      ]
     },
     "execution_count": 115,
     "metadata": {},
     "output_type": "execute_result"
    }
   ],
   "source": [
    "# 뒤에서 6개 글자만 가져옵니다.\n",
    "word[-6:]"
   ]
  },
  {
   "cell_type": "code",
   "execution_count": null,
   "metadata": {
    "colab": {
     "base_uri": "https://localhost:8080/",
     "height": 35
    },
    "id": "Y1937rqLxNHP",
    "outputId": "f1c0c901-042c-4bb6-e6c6-a66bc3fde16a"
   },
   "outputs": [
    {
     "data": {
      "application/vnd.google.colaboratory.intrinsic+json": {
       "type": "string"
      },
      "text/plain": [
       "'thon'"
      ]
     },
     "execution_count": 113,
     "metadata": {},
     "output_type": "execute_result"
    }
   ],
   "source": [
    "# 2번 인덱스부터 4개의 글자만 가져옵니다.\n",
    "word[2:6] #2+4로이해 "
   ]
  },
  {
   "cell_type": "markdown",
   "metadata": {
    "id": "pPEFJdznxNHP"
   },
   "source": [
    "### 문자열 함수\n",
    "* https://docs.python.org/ko/3/library/stdtypes.html#string-methods"
   ]
  },
  {
   "cell_type": "code",
   "execution_count": null,
   "metadata": {
    "colab": {
     "base_uri": "https://localhost:8080/",
     "height": 35
    },
    "id": "MCu7CwOZxNHP",
    "outputId": "aace088c-b107-4f7a-e34b-460faf619943"
   },
   "outputs": [
    {
     "data": {
      "application/vnd.google.colaboratory.intrinsic+json": {
       "type": "string"
      },
      "text/plain": [
       "'python'"
      ]
     },
     "execution_count": 2,
     "metadata": {},
     "output_type": "execute_result"
    }
   ],
   "source": [
    "# 소문자로 변환합니다.\n",
    "word = 'python' \n",
    "word.lower()"
   ]
  },
  {
   "cell_type": "code",
   "execution_count": null,
   "metadata": {
    "colab": {
     "base_uri": "https://localhost:8080/",
     "height": 35
    },
    "id": "2skcX5S_xNHP",
    "outputId": "50bbbe97-e392-4df5-9471-a6ee8b6da80a"
   },
   "outputs": [
    {
     "data": {
      "application/vnd.google.colaboratory.intrinsic+json": {
       "type": "string"
      },
      "text/plain": [
       "\"PYTHON'S HOBBY?\""
      ]
     },
     "execution_count": 117,
     "metadata": {},
     "output_type": "execute_result"
    }
   ],
   "source": [
    "# 대문자로 변환합니다.\n",
    "word.upper()\n"
   ]
  },
  {
   "cell_type": "markdown",
   "metadata": {
    "id": "M2qpaSudxNHP"
   },
   "source": [
    "## 리스트\n",
    "* https://docs.python.org/ko/3/tutorial/introduction.html#lists"
   ]
  },
  {
   "cell_type": "code",
   "execution_count": null,
   "metadata": {
    "colab": {
     "base_uri": "https://localhost:8080/"
    },
    "id": "gpfqgiFoxNHP",
    "outputId": "f92587a5-0ada-49a3-acc2-3030a586f431"
   },
   "outputs": [
    {
     "data": {
      "text/plain": [
       "[1, 4, 9, 16, 25]"
      ]
     },
     "execution_count": 9,
     "metadata": {},
     "output_type": "execute_result"
    }
   ],
   "source": [
    "# 리스트 값을 생성합니다.\n",
    "squares = [1, 4, 9, 16, 25]\n",
    "squares\n",
    "\n",
    "# [] -> 인덱싱, 슬라이싱, 리스트\n",
    "# () -> 함수, 메서드, 튜플"
   ]
  },
  {
   "cell_type": "code",
   "execution_count": null,
   "metadata": {
    "colab": {
     "base_uri": "https://localhost:8080/"
    },
    "id": "Qx6lOs777M6g",
    "outputId": "537860ab-f851-4de4-df45-ac601b9f3a08"
   },
   "outputs": [
    {
     "name": "stdout",
     "output_type": "stream",
     "text": [
      "2\n",
      "2\n"
     ]
    },
    {
     "data": {
      "text/plain": [
       "2"
      ]
     },
     "execution_count": 8,
     "metadata": {},
     "output_type": "execute_result"
    }
   ],
   "source": [
    "n=2\n",
    "print(n)\n",
    "print(n)\n",
    "n"
   ]
  },
  {
   "cell_type": "markdown",
   "metadata": {
    "id": "O0Wt9hfixNHP"
   },
   "source": [
    "### 리스트 인덱싱"
   ]
  },
  {
   "cell_type": "code",
   "execution_count": null,
   "metadata": {
    "colab": {
     "base_uri": "https://localhost:8080/"
    },
    "id": "sy_V_7oXxNHP",
    "outputId": "731166eb-73e7-4dc5-b6f0-baa3785cafbd"
   },
   "outputs": [
    {
     "name": "stdout",
     "output_type": "stream",
     "text": [
      "[1, 4, 9, 16, 25]\n",
      "1\n"
     ]
    }
   ],
   "source": [
    "# 인덱스 번호는 0부터 시작합니다. 0번 인덱스를 가져옵니다.\n",
    "print(squares) \n",
    "print(squares[0])"
   ]
  },
  {
   "cell_type": "code",
   "execution_count": null,
   "metadata": {
    "colab": {
     "base_uri": "https://localhost:8080/"
    },
    "id": "Yy72URrOxNHQ",
    "outputId": "a1c75809-ffc4-4bbf-b942-961f79f3698b"
   },
   "outputs": [
    {
     "data": {
      "text/plain": [
       "25"
      ]
     },
     "execution_count": 79,
     "metadata": {},
     "output_type": "execute_result"
    }
   ],
   "source": [
    "# 마지막 인덱스는 -1 로 가져올 수 있습니다.\n",
    "squares[-1]"
   ]
  },
  {
   "cell_type": "code",
   "execution_count": null,
   "metadata": {
    "colab": {
     "base_uri": "https://localhost:8080/"
    },
    "id": "a7MPgtCExNHQ",
    "outputId": "ee87a2c0-235d-49a5-8fda-1e046d451113"
   },
   "outputs": [
    {
     "data": {
      "text/plain": [
       "9"
      ]
     },
     "execution_count": 80,
     "metadata": {},
     "output_type": "execute_result"
    }
   ],
   "source": [
    "# 뒤에서 3번째 값을 가져옵니다.\n",
    "squares[-3]"
   ]
  },
  {
   "cell_type": "markdown",
   "metadata": {
    "id": "AGjP3ylOxNHQ"
   },
   "source": [
    "### 리스트 슬라이싱"
   ]
  },
  {
   "cell_type": "code",
   "execution_count": null,
   "metadata": {
    "colab": {
     "base_uri": "https://localhost:8080/"
    },
    "id": "aB4KMRP5xNHQ",
    "outputId": "294efb79-ee32-4ed6-f7b3-418e39854af8"
   },
   "outputs": [
    {
     "name": "stdout",
     "output_type": "stream",
     "text": [
      "[1, 4, 9, 16, 25]\n"
     ]
    },
    {
     "data": {
      "text/plain": [
       "[1, 4, 9, 16, 25]"
      ]
     },
     "execution_count": 14,
     "metadata": {},
     "output_type": "execute_result"
    }
   ],
   "source": [
    "# [시작인덱스:끝나는인덱스+1]\n",
    "print(squares) \n",
    "squares[:]"
   ]
  },
  {
   "cell_type": "code",
   "execution_count": null,
   "metadata": {
    "id": "jabnDcuCPo9b"
   },
   "outputs": [],
   "source": [
    "# esc+a -> 위에 셀 추가 \n",
    "# esc+b -> 아래에 셀 추가 \n",
    "# esc+dd -> 셀 삭제 \n",
    "# esc+h -> 단축기목록  \n",
    "# esc+m->문서에서 마크다운 셀로 변환 \n",
    "# esc+y->코드 셀로 변환 m\n",
    "\n",
    "<코랩의 경우, 단축기 앞에 m추가>"
   ]
  },
  {
   "cell_type": "markdown",
   "metadata": {
    "id": "OMnEkpHzxNHQ"
   },
   "source": [
    "### 리스트의 함수"
   ]
  },
  {
   "cell_type": "code",
   "execution_count": null,
   "metadata": {
    "colab": {
     "base_uri": "https://localhost:8080/"
    },
    "id": "X6r_PWlJxNHQ",
    "outputId": "c85bf5f3-6467-4450-f193-2ff2aac2b45f"
   },
   "outputs": [
    {
     "name": "stdout",
     "output_type": "stream",
     "text": [
      "[1, 4, 9, 16, 25, 36]\n"
     ]
    }
   ],
   "source": [
    "# append로 값을 추가합니다.\n",
    "squares.append(36) #반복가능\n",
    "print(squares)"
   ]
  },
  {
   "cell_type": "code",
   "execution_count": null,
   "metadata": {
    "colab": {
     "base_uri": "https://localhost:8080/"
    },
    "id": "DogZA-QwxNHQ",
    "outputId": "fb6750a9-ff4d-4024-fcc2-0770c6b98b7a"
   },
   "outputs": [
    {
     "data": {
      "text/plain": [
       "[1, 4, 9, 16, 25]"
      ]
     },
     "execution_count": 23,
     "metadata": {},
     "output_type": "execute_result"
    }
   ],
   "source": [
    "# remove로 값을 제거합니다. \n",
    "# 이미 다 제거를 했으면 value error가 난다는 것\n",
    "squares.remove(36)\n",
    "squares"
   ]
  },
  {
   "cell_type": "markdown",
   "metadata": {
    "id": "ceAIj8rzxNHQ"
   },
   "source": [
    "## 딕셔너리\n",
    "* https://docs.python.org/ko/3/tutorial/datastructures.html#dictionaries"
   ]
  },
  {
   "cell_type": "code",
   "execution_count": null,
   "metadata": {
    "colab": {
     "base_uri": "https://localhost:8080/"
    },
    "id": "lYDDECf8xNHQ",
    "outputId": "9619ea41-5917-4ac8-cf9e-3ebe80184740"
   },
   "outputs": [
    {
     "data": {
      "text/plain": [
       "{'감자': 4098, '고구마': 4139, '쪽파': 100}"
      ]
     },
     "execution_count": 28,
     "metadata": {},
     "output_type": "execute_result"
    }
   ],
   "source": [
    "# {키:값} 형식으로 되어 있습니다.\n",
    "# 딕셔너리를 정의합니다.\n",
    "# 재고라는 이름을 갖는 변수에 고구마, 감자, 쪽파의 수량을 표시해 봅니다.\n",
    "재고 = {'감자': 4098,'고구마' : 4139,'쪽파': 100}\n",
    "재고"
   ]
  },
  {
   "cell_type": "code",
   "execution_count": null,
   "metadata": {
    "colab": {
     "base_uri": "https://localhost:8080/",
     "height": 226
    },
    "id": "Gxh5H3LVxNHQ",
    "outputId": "ef4a2350-5abb-4c50-d6c5-f4895f3fe2ee",
    "scrolled": true
   },
   "outputs": [
    {
     "ename": "KeyError",
     "evalue": "ignored",
     "output_type": "error",
     "traceback": [
      "\u001b[0;31m---------------------------------------------------------------------------\u001b[0m",
      "\u001b[0;31mKeyError\u001b[0m                                  Traceback (most recent call last)",
      "\u001b[0;32m<ipython-input-88-05b81982ae57>\u001b[0m in \u001b[0;36m<module>\u001b[0;34m()\u001b[0m\n\u001b[1;32m      1\u001b[0m \u001b[0;31m# 재고에 대파를 추가해 봅니다.\u001b[0m\u001b[0;34m\u001b[0m\u001b[0;34m\u001b[0m\u001b[0;34m\u001b[0m\u001b[0m\n\u001b[0;32m----> 2\u001b[0;31m \u001b[0;32mdel\u001b[0m \u001b[0m재고\u001b[0m\u001b[0;34m[\u001b[0m\u001b[0;34m\"대파\"\u001b[0m\u001b[0;34m,\u001b[0m\u001b[0;34m\"고구마\"\u001b[0m\u001b[0;34m]\u001b[0m\u001b[0;34m\u001b[0m\u001b[0;34m\u001b[0m\u001b[0m\n\u001b[0m\u001b[1;32m      3\u001b[0m \u001b[0m재고\u001b[0m\u001b[0;34m\u001b[0m\u001b[0;34m\u001b[0m\u001b[0m\n\u001b[1;32m      4\u001b[0m \u001b[0;34m\u001b[0m\u001b[0m\n",
      "\u001b[0;31mKeyError\u001b[0m: ('대파', '고구마')"
     ]
    }
   ],
   "source": [
    "# 재고에 대파를 추가해 봅니다.\n",
    "del 재고[\"대파\",\"고구마\"] \n",
    "재고\n",
    "\n"
   ]
  },
  {
   "cell_type": "code",
   "execution_count": null,
   "metadata": {
    "colab": {
     "base_uri": "https://localhost:8080/"
    },
    "id": "HsL5H4-tBfpI",
    "outputId": "48bee30e-2699-417e-f31b-0fc434a8743f"
   },
   "outputs": [
    {
     "data": {
      "text/plain": [
       "{'감자': 4098, '고구마': 4139, '대파': 321, '쪽파': 100}"
      ]
     },
     "execution_count": 41,
     "metadata": {},
     "output_type": "execute_result"
    }
   ],
   "source": [
    "재고[\"고구마\"]=4139\n",
    "재고"
   ]
  },
  {
   "cell_type": "code",
   "execution_count": null,
   "metadata": {
    "colab": {
     "base_uri": "https://localhost:8080/"
    },
    "id": "Hakrg_KHxNHR",
    "outputId": "d751defb-57e6-43c8-c07f-f83fb4c8dd3d"
   },
   "outputs": [
    {
     "data": {
      "text/plain": [
       "4098"
      ]
     },
     "execution_count": 42,
     "metadata": {},
     "output_type": "execute_result"
    }
   ],
   "source": [
    "# 키를 통해 \"대파\"의 값을 가져옵니다.\n",
    "재고[\"감자\"]"
   ]
  },
  {
   "cell_type": "code",
   "execution_count": null,
   "metadata": {
    "colab": {
     "base_uri": "https://localhost:8080/"
    },
    "id": "cG-2MTcvxNHR",
    "outputId": "d4fabfaf-902d-4dee-95e7-dd9559abb653"
   },
   "outputs": [
    {
     "data": {
      "text/plain": [
       "{'감자': 4098, '고구마': 4139, '대파': 321, '양파': 432, '쪽파': 100}"
      ]
     },
     "execution_count": 46,
     "metadata": {},
     "output_type": "execute_result"
    }
   ],
   "source": [
    "# \"양파\" 도 추가해 봅니다.\n",
    "재고[\"양파\"]=432\n",
    "재고"
   ]
  },
  {
   "cell_type": "code",
   "execution_count": null,
   "metadata": {
    "id": "ydNsMO-4xNHR"
   },
   "outputs": [],
   "source": [
    "# del을 통해 값을 제거할 수 있습니다.\n",
    "del 재고[\"양파\"]"
   ]
  },
  {
   "cell_type": "code",
   "execution_count": null,
   "metadata": {
    "colab": {
     "base_uri": "https://localhost:8080/"
    },
    "id": "fBrDuef5xNHR",
    "outputId": "b9244329-b785-433e-f51b-92a8e1bf0d29"
   },
   "outputs": [
    {
     "data": {
      "text/plain": [
       "{'감자': 4098, '고구마': 4139, '대파': 321, '쪽파': 100}"
      ]
     },
     "execution_count": 77,
     "metadata": {},
     "output_type": "execute_result"
    }
   ],
   "source": [
    "# 값이 잘 제거되었는지 확인합니다.\n",
    "재고"
   ]
  },
  {
   "cell_type": "code",
   "execution_count": null,
   "metadata": {
    "colab": {
     "base_uri": "https://localhost:8080/"
    },
    "id": "8jNGL0QtxNHR",
    "outputId": "5e65f5e7-1052-4879-f478-d31f0c2c9721"
   },
   "outputs": [
    {
     "data": {
      "text/plain": [
       "['감자', '쪽파', '대파', '고구마']"
      ]
     },
     "execution_count": 65,
     "metadata": {},
     "output_type": "execute_result"
    }
   ],
   "source": [
    "# dict를 list로 반환합니다. 이 때 키값을 가져와 리스트로 생성합니다. \n",
    "#리스트함수로 이해했음 \n",
    "list(재고)"
   ]
  },
  {
   "cell_type": "code",
   "execution_count": null,
   "metadata": {
    "colab": {
     "base_uri": "https://localhost:8080/"
    },
    "id": "e0JPBzq_D82f",
    "outputId": "35dc9b8a-b1c5-4c08-e0fe-221bf63e274c"
   },
   "outputs": [
    {
     "data": {
      "text/plain": [
       "4098"
      ]
     },
     "execution_count": 75,
     "metadata": {},
     "output_type": "execute_result"
    }
   ],
   "source": [
    "재고.get(\"감자\",\"고구마\") #이거다시풀어보기 "
   ]
  },
  {
   "cell_type": "code",
   "execution_count": null,
   "metadata": {
    "colab": {
     "base_uri": "https://localhost:8080/"
    },
    "id": "NdC2GSjTxNHR",
    "outputId": "8b6ce29e-faa7-4aca-98e6-6957f541fac0"
   },
   "outputs": [
    {
     "data": {
      "text/plain": [
       "['감자', '고구마', '대파', '쪽파']"
      ]
     },
     "execution_count": 76,
     "metadata": {},
     "output_type": "execute_result"
    }
   ],
   "source": [
    "# sorted를 사용해 재고 변수에 담긴 딕셔너리의 키값을 기준으로 정렬합니다.\n",
    "sorted(재고)"
   ]
  },
  {
   "cell_type": "code",
   "execution_count": null,
   "metadata": {
    "colab": {
     "base_uri": "https://localhost:8080/"
    },
    "id": "FS5kblgDTTLL",
    "outputId": "f30146e9-9dda-4802-b59c-6e275b139fc4"
   },
   "outputs": [
    {
     "data": {
      "text/plain": [
       "['감자', '고구마', '대파', '쪽파']"
      ]
     },
     "execution_count": 78,
     "metadata": {},
     "output_type": "execute_result"
    }
   ],
   "source": [
    "sorted(재고)"
   ]
  },
  {
   "cell_type": "code",
   "execution_count": null,
   "metadata": {
    "id": "hdwj8SdvF50y"
   },
   "outputs": [],
   "source": [
    "연습={300:'가', 200:'바', 500:'나'}"
   ]
  },
  {
   "cell_type": "code",
   "execution_count": null,
   "metadata": {
    "colab": {
     "base_uri": "https://localhost:8080/"
    },
    "id": "v9UygAhyGLM3",
    "outputId": "f11f4cc5-9d37-429c-8d0b-b3257857395a"
   },
   "outputs": [
    {
     "data": {
      "text/plain": [
       "{200: '바', 300: '가', 500: '나'}"
      ]
     },
     "execution_count": 86,
     "metadata": {},
     "output_type": "execute_result"
    }
   ],
   "source": [
    "연습"
   ]
  },
  {
   "cell_type": "code",
   "execution_count": null,
   "metadata": {
    "colab": {
     "base_uri": "https://localhost:8080/"
    },
    "id": "NElDX3lAGQo3",
    "outputId": "a1d0e043-3ea4-42fa-953c-7c0f72cf9b5f"
   },
   "outputs": [
    {
     "data": {
      "text/plain": [
       "[200, 300, 500]"
      ]
     },
     "execution_count": 87,
     "metadata": {},
     "output_type": "execute_result"
    }
   ],
   "source": [
    "sorted(연습) #키값기준정렬"
   ]
  }
 ],
 "metadata": {
  "colab": {
   "collapsed_sections": [],
   "name": "0101 파이썬 기본 연산과 자료형-input.ipynb의 사본",
   "provenance": [],
   "toc_visible": true
  },
  "kernelspec": {
   "display_name": "Python 3",
   "language": "python",
   "name": "python3"
  },
  "language_info": {
   "codemirror_mode": {
    "name": "ipython",
    "version": 3
   },
   "file_extension": ".py",
   "mimetype": "text/x-python",
   "name": "python",
   "nbconvert_exporter": "python",
   "pygments_lexer": "ipython3",
   "version": "3.8.8"
  },
  "toc": {
   "base_numbering": 1,
   "nav_menu": {},
   "number_sections": true,
   "sideBar": true,
   "skip_h1_title": false,
   "title_cell": "Table of Contents",
   "title_sidebar": "Contents",
   "toc_cell": false,
   "toc_position": {},
   "toc_section_display": true,
   "toc_window_display": false
  },
  "varInspector": {
   "cols": {
    "lenName": 16,
    "lenType": 16,
    "lenVar": 40
   },
   "kernels_config": {
    "python": {
     "delete_cmd_postfix": "",
     "delete_cmd_prefix": "del ",
     "library": "var_list.py",
     "varRefreshCmd": "print(var_dic_list())"
    },
    "r": {
     "delete_cmd_postfix": ") ",
     "delete_cmd_prefix": "rm(",
     "library": "var_list.r",
     "varRefreshCmd": "cat(var_dic_list()) "
    }
   },
   "types_to_exclude": [
    "module",
    "function",
    "builtin_function_or_method",
    "instance",
    "_Feature"
   ],
   "window_display": false
  }
 },
 "nbformat": 4,
 "nbformat_minor": 1
}
